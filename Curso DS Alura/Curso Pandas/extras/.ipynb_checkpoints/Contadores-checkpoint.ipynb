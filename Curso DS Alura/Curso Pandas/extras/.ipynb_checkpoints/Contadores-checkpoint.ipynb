{
 "cells": [
  {
   "cell_type": "code",
   "execution_count": 1,
   "id": "10632109",
   "metadata": {},
   "outputs": [],
   "source": [
    "import pandas as pd"
   ]
  },
  {
   "cell_type": "code",
   "execution_count": 2,
   "id": "2978bf82",
   "metadata": {},
   "outputs": [
    {
     "data": {
      "text/plain": [
       "0     a\n",
       "1     s\n",
       "2     d\n",
       "3     a\n",
       "4     d\n",
       "5     e\n",
       "6     a\n",
       "7     d\n",
       "8     e\n",
       "9     s\n",
       "10    d\n",
       "11    a\n",
       "12    s\n",
       "13    e\n",
       "14    s\n",
       "15    d\n",
       "16    a\n",
       "dtype: object"
      ]
     },
     "execution_count": 2,
     "metadata": {},
     "output_type": "execute_result"
    }
   ],
   "source": [
    "s = pd.Series(list('asdadeadesdasesda'))\n",
    "s"
   ]
  },
  {
   "cell_type": "code",
   "execution_count": 3,
   "id": "9896f167",
   "metadata": {},
   "outputs": [
    {
     "data": {
      "text/plain": [
       "array(['a', 's', 'd', 'e'], dtype=object)"
      ]
     },
     "execution_count": 3,
     "metadata": {},
     "output_type": "execute_result"
    }
   ],
   "source": [
    "s.unique()"
   ]
  },
  {
   "cell_type": "code",
   "execution_count": 4,
   "id": "472f5823",
   "metadata": {},
   "outputs": [
    {
     "data": {
      "text/plain": [
       "a    5\n",
       "d    5\n",
       "s    4\n",
       "e    3\n",
       "dtype: int64"
      ]
     },
     "execution_count": 4,
     "metadata": {},
     "output_type": "execute_result"
    }
   ],
   "source": [
    "s.value_counts()"
   ]
  },
  {
   "cell_type": "code",
   "execution_count": 5,
   "id": "de1c251f",
   "metadata": {},
   "outputs": [],
   "source": [
    "dados = pd.read_csv('dados/aluguel.csv', sep = ';')"
   ]
  },
  {
   "cell_type": "code",
   "execution_count": 6,
   "id": "5604fee5",
   "metadata": {},
   "outputs": [
    {
     "data": {
      "text/plain": [
       "array(['Apartamento', 'Casa', 'Casa de Condomínio', 'Casa de Vila',\n",
       "       'Quitinete'], dtype=object)"
      ]
     },
     "execution_count": 6,
     "metadata": {},
     "output_type": "execute_result"
    }
   ],
   "source": [
    "dados.Tipo.unique()"
   ]
  },
  {
   "cell_type": "code",
   "execution_count": 7,
   "id": "e6ba83e4",
   "metadata": {},
   "outputs": [
    {
     "data": {
      "text/plain": [
       "array(['Apartamento', 'Casa', 'Casa de Condomínio', 'Casa de Vila',\n",
       "       'Quitinete'], dtype=object)"
      ]
     },
     "execution_count": 7,
     "metadata": {},
     "output_type": "execute_result"
    }
   ],
   "source": [
    "dados['Tipo'].unique()"
   ]
  },
  {
   "cell_type": "code",
   "execution_count": 8,
   "id": "45aea482",
   "metadata": {},
   "outputs": [
    {
     "data": {
      "text/plain": [
       "Apartamento           16923\n",
       "Casa de Condomínio      964\n",
       "Casa                    898\n",
       "Quitinete               813\n",
       "Casa de Vila            233\n",
       "Name: Tipo, dtype: int64"
      ]
     },
     "execution_count": 8,
     "metadata": {},
     "output_type": "execute_result"
    }
   ],
   "source": [
    "dados.Tipo.value_counts()"
   ]
  },
  {
   "cell_type": "code",
   "execution_count": 9,
   "id": "bd1bf589",
   "metadata": {},
   "outputs": [
    {
     "data": {
      "text/plain": [
       "Apartamento           16923\n",
       "Casa de Condomínio      964\n",
       "Casa                    898\n",
       "Quitinete               813\n",
       "Casa de Vila            233\n",
       "Name: Tipo, dtype: int64"
      ]
     },
     "execution_count": 9,
     "metadata": {},
     "output_type": "execute_result"
    }
   ],
   "source": [
    "dados['Tipo'].value_counts()"
   ]
  },
  {
   "cell_type": "code",
   "execution_count": null,
   "id": "f646e138",
   "metadata": {},
   "outputs": [],
   "source": []
  }
 ],
 "metadata": {
  "kernelspec": {
   "display_name": "Python 3 (ipykernel)",
   "language": "python",
   "name": "python3"
  },
  "language_info": {
   "codemirror_mode": {
    "name": "ipython",
    "version": 3
   },
   "file_extension": ".py",
   "mimetype": "text/x-python",
   "name": "python",
   "nbconvert_exporter": "python",
   "pygments_lexer": "ipython3",
   "version": "3.11.4"
  }
 },
 "nbformat": 4,
 "nbformat_minor": 5
}
